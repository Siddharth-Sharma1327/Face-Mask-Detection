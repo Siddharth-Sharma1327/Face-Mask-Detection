{
  "nbformat": 4,
  "nbformat_minor": 0,
  "metadata": {
    "colab": {
      "provenance": [],
      "name": "Face-mask-detection-MobileNet.ipynb",
      "authorship_tag": "ABX9TyOLyxo6Xg9FmNiZ6uKrdEeT",
      "include_colab_link": true
    },
    "kernelspec": {
      "name": "python3",
      "display_name": "Python 3"
    },
    "language_info": {
      "name": "python"
    },
    "accelerator": "GPU",
    "gpuClass": "standard"
  },
  "cells": [
    {
      "cell_type": "markdown",
      "metadata": {
        "id": "view-in-github",
        "colab_type": "text"
      },
      "source": [
        "<a href=\"https://colab.research.google.com/github/Siddharth-Sharma1327/CV/blob/main/Face_mask_detection_MobileNet.ipynb\" target=\"_parent\"><img src=\"https://colab.research.google.com/assets/colab-badge.svg\" alt=\"Open In Colab\"/></a>"
      ]
    },
    {
      "cell_type": "markdown",
      "source": [
        "**USING MobileNet**"
      ],
      "metadata": {
        "id": "T-yJNxQKxnqE"
      }
    },
    {
      "cell_type": "code",
      "execution_count": null,
      "metadata": {
        "id": "zyDxzCal3vn0"
      },
      "outputs": [],
      "source": [
        "\n",
        "# import the necessary packages\n",
        "from tensorflow.keras.preprocessing.image import ImageDataGenerator\n",
        "from tensorflow.keras.applications import MobileNetV2\n",
        "from tensorflow.keras.layers import AveragePooling2D\n",
        "from tensorflow.keras.layers import Dropout\n",
        "from tensorflow.keras.layers import Flatten\n",
        "from tensorflow.keras.layers import Dense\n",
        "from tensorflow.keras.layers import Input\n",
        "from tensorflow.keras.models import Model\n",
        "from tensorflow.keras.optimizers import Adam\n",
        "from tensorflow.keras.applications.mobilenet_v2 import preprocess_input\n",
        "from tensorflow.keras.preprocessing.image import img_to_array\n",
        "from tensorflow.keras.preprocessing.image import load_img\n",
        "from tensorflow.keras.utils import to_categorical\n",
        "from sklearn.preprocessing import LabelBinarizer\n",
        "from sklearn.model_selection import train_test_split\n",
        "from sklearn.metrics import classification_report\n",
        "from imutils import paths\n",
        "import matplotlib.pyplot as plt\n",
        "import numpy as np\n",
        "import os"
      ]
    },
    {
      "cell_type": "code",
      "source": [
        "# initialize the initial learning rate, number of epochs to train for,\n",
        "# and batch size\n",
        "INIT_LR = 1e-4\n",
        "EPOCHS = 20\n",
        "BS = 32"
      ],
      "metadata": {
        "id": "ES7i3-Aq40fc"
      },
      "execution_count": null,
      "outputs": []
    },
    {
      "cell_type": "code",
      "source": [
        "from google.colab import drive\n",
        "drive.mount('/content/drive')"
      ],
      "metadata": {
        "colab": {
          "base_uri": "https://localhost:8080/"
        },
        "id": "2ehgS6a045DE",
        "outputId": "b5a9e915-467f-410a-8bd1-bee7cd5b6ed1"
      },
      "execution_count": null,
      "outputs": [
        {
          "output_type": "stream",
          "name": "stdout",
          "text": [
            "Mounted at /content/drive\n"
          ]
        }
      ]
    },
    {
      "cell_type": "code",
      "source": [
        "DIRECTORY = r\"/content/drive/MyDrive/dataset\"\n",
        "CATEGORIES = [\"with_mask\", \"without_mask\"]\n"
      ],
      "metadata": {
        "id": "o1IifdQB5B8N"
      },
      "execution_count": null,
      "outputs": []
    },
    {
      "cell_type": "code",
      "source": [
        "# grab the list of images in our dataset directory, then initialize\n",
        "# the list of data (i.e., images) and class images\n",
        "print(\"[INFO] loading images...\")"
      ],
      "metadata": {
        "colab": {
          "base_uri": "https://localhost:8080/"
        },
        "id": "HWTGPbOx5Kvm",
        "outputId": "e90386d7-f6fe-4c2c-d59c-a3ae7ae0dc41"
      },
      "execution_count": null,
      "outputs": [
        {
          "output_type": "stream",
          "name": "stdout",
          "text": [
            "[INFO] loading images...\n"
          ]
        }
      ]
    },
    {
      "cell_type": "code",
      "source": [
        "data = []\n",
        "labels = []\n",
        "\n",
        "for category in CATEGORIES:\n",
        "    path = os.path.join(DIRECTORY, category)\n",
        "    for img in os.listdir(path):\n",
        "    \timg_path = os.path.join(path, img)\n",
        "    \timage = load_img(img_path, target_size=(224, 224))\n",
        "    \timage = img_to_array(image)\n",
        "    \timage = preprocess_input(image)\n",
        "\n",
        "    \tdata.append(image)\n",
        "    \tlabels.append(category)"
      ],
      "metadata": {
        "colab": {
          "base_uri": "https://localhost:8080/"
        },
        "id": "doApFdAN5PBv",
        "outputId": "faae103f-e423-431b-9464-7990ef85d68d"
      },
      "execution_count": null,
      "outputs": [
        {
          "output_type": "stream",
          "name": "stderr",
          "text": [
            "/usr/local/lib/python3.9/dist-packages/PIL/Image.py:975: UserWarning: Palette images with Transparency expressed in bytes should be converted to RGBA images\n",
            "  warnings.warn(\n"
          ]
        }
      ]
    },
    {
      "cell_type": "code",
      "source": [
        "# perform one-hot encoding on the labels\n",
        "lb = LabelBinarizer()\n",
        "labels = lb.fit_transform(labels)\n",
        "labels = to_categorical(labels)\n",
        "\n",
        "data = np.array(data, dtype=\"float32\")\n",
        "labels = np.array(labels)"
      ],
      "metadata": {
        "id": "HY6nK4Lr5Qiv"
      },
      "execution_count": null,
      "outputs": []
    },
    {
      "cell_type": "code",
      "source": [
        "(trainX, testX, trainY, testY) = train_test_split(data, labels,\n",
        "\ttest_size=0.20, stratify=labels, random_state=42)"
      ],
      "metadata": {
        "id": "s5A7Fr0O5Su4"
      },
      "execution_count": null,
      "outputs": []
    },
    {
      "cell_type": "code",
      "source": [
        "trainX.shape,trainY.shape"
      ],
      "metadata": {
        "colab": {
          "base_uri": "https://localhost:8080/"
        },
        "id": "-KYoPhbu5Umg",
        "outputId": "3712602c-c6ae-4e52-8419-12eb5b7ca4aa"
      },
      "execution_count": null,
      "outputs": [
        {
          "output_type": "execute_result",
          "data": {
            "text/plain": [
              "((3072, 224, 224, 3), (3072, 2))"
            ]
          },
          "metadata": {},
          "execution_count": 9
        }
      ]
    },
    {
      "cell_type": "code",
      "source": [
        "testX.shape,testY.shape"
      ],
      "metadata": {
        "colab": {
          "base_uri": "https://localhost:8080/"
        },
        "id": "kxRxLJJe5W1w",
        "outputId": "f6bfe51c-27a0-4f89-8651-676ee2ccfbaa"
      },
      "execution_count": null,
      "outputs": [
        {
          "output_type": "execute_result",
          "data": {
            "text/plain": [
              "((768, 224, 224, 3), (768, 2))"
            ]
          },
          "metadata": {},
          "execution_count": 10
        }
      ]
    },
    {
      "cell_type": "code",
      "source": [
        "# construct the training image generator for data augmentation\n",
        "aug = ImageDataGenerator(\n",
        "\trotation_range=20,\n",
        "\tzoom_range=0.15,\n",
        "\twidth_shift_range=0.2,\n",
        "\theight_shift_range=0.2,\n",
        "\tshear_range=0.15,\n",
        "\thorizontal_flip=True,\n",
        "\tfill_mode=\"nearest\")"
      ],
      "metadata": {
        "id": "_4ZUbnDt5apw"
      },
      "execution_count": null,
      "outputs": []
    },
    {
      "cell_type": "code",
      "source": [
        "# load the MobileNetV2 network, ensuring the head FC layer sets are\n",
        "# left off\n",
        "baseModel = MobileNetV2(weights=\"imagenet\", include_top=False,\n",
        "\tinput_tensor=Input(shape=(224, 224, 3)))"
      ],
      "metadata": {
        "colab": {
          "base_uri": "https://localhost:8080/"
        },
        "id": "ywDYeWDg5dbg",
        "outputId": "1355925e-5e0b-445c-98b3-e855eaf817ea"
      },
      "execution_count": null,
      "outputs": [
        {
          "output_type": "stream",
          "name": "stderr",
          "text": [
            "WARNING:tensorflow:`input_shape` is undefined or non-square, or `rows` is not in [96, 128, 160, 192, 224]. Weights for input shape (224, 224) will be loaded as the default.\n"
          ]
        },
        {
          "output_type": "stream",
          "name": "stdout",
          "text": [
            "Downloading data from https://storage.googleapis.com/tensorflow/keras-applications/mobilenet_v2/mobilenet_v2_weights_tf_dim_ordering_tf_kernels_1.0_224_no_top.h5\n",
            "9406464/9406464 [==============================] - 0s 0us/step\n"
          ]
        }
      ]
    },
    {
      "cell_type": "code",
      "source": [
        "# construct the head of the model that will be placed on top of the\n",
        "# the base model\n",
        "headModel = baseModel.output\n",
        "headModel = AveragePooling2D(pool_size=(7, 7))(headModel)\n",
        "headModel = Flatten(name=\"flatten\")(headModel)\n",
        "headModel = Dense(128, activation=\"relu\")(headModel)\n",
        "headModel = Dropout(0.5)(headModel)\n",
        "headModel = Dense(2, activation=\"softmax\")(headModel)"
      ],
      "metadata": {
        "id": "fjWywVuj5fWI"
      },
      "execution_count": null,
      "outputs": []
    },
    {
      "cell_type": "code",
      "source": [
        "# place the head FC model on top of the base model (this will become\n",
        "# the actual model we will train)\n",
        "model = Model(inputs=baseModel.input, outputs=headModel)"
      ],
      "metadata": {
        "id": "0TEpE9OW5ljK"
      },
      "execution_count": null,
      "outputs": []
    },
    {
      "cell_type": "code",
      "source": [
        "#loop over all layers in the base model and freeze them so they will\n",
        "# *not* be updated during the first training process\n",
        "for layer in baseModel.layers:\n",
        "\tlayer.trainable = False"
      ],
      "metadata": {
        "id": "DMC-7IONaAT7"
      },
      "execution_count": null,
      "outputs": []
    },
    {
      "cell_type": "code",
      "source": [
        "# compile our model\n",
        "print(\"[INFO] compiling model...\")\n",
        "opt = Adam(learning_rate=INIT_LR, weight_decay=INIT_LR / EPOCHS)\n",
        "model.compile(loss=\"binary_crossentropy\", optimizer=opt,\n",
        "\tmetrics=[\"accuracy\"])"
      ],
      "metadata": {
        "colab": {
          "base_uri": "https://localhost:8080/"
        },
        "id": "IaZ3B_ElaEbK",
        "outputId": "723ad025-66d0-4eaa-c5ce-713fc9123678"
      },
      "execution_count": null,
      "outputs": [
        {
          "output_type": "stream",
          "name": "stdout",
          "text": [
            "[INFO] compiling model...\n"
          ]
        }
      ]
    },
    {
      "cell_type": "code",
      "source": [
        "# train the head of the network\n",
        "print(\"[INFO] training head...\")\n",
        "H = model.fit(\n",
        "\taug.flow(trainX, trainY, batch_size=BS),\n",
        "\tsteps_per_epoch=len(trainX) // BS,\n",
        "\tvalidation_data=(testX, testY),\n",
        "\tvalidation_steps=len(testX) // BS,\n",
        "\tepochs=EPOCHS)"
      ],
      "metadata": {
        "colab": {
          "base_uri": "https://localhost:8080/"
        },
        "id": "cEz1GjIZaItk",
        "outputId": "83251311-f560-448b-a685-9ecca8754d1b"
      },
      "execution_count": null,
      "outputs": [
        {
          "output_type": "stream",
          "name": "stdout",
          "text": [
            "[INFO] training head...\n",
            "Epoch 1/20\n",
            "96/96 [==============================] - 50s 382ms/step - loss: 0.4453 - accuracy: 0.8350 - val_loss: 0.1814 - val_accuracy: 0.9701\n",
            "Epoch 2/20\n",
            "96/96 [==============================] - 35s 364ms/step - loss: 0.1598 - accuracy: 0.9619 - val_loss: 0.0880 - val_accuracy: 0.9818\n",
            "Epoch 3/20\n",
            "96/96 [==============================] - 35s 360ms/step - loss: 0.1009 - accuracy: 0.9740 - val_loss: 0.0623 - val_accuracy: 0.9818\n",
            "Epoch 4/20\n",
            "96/96 [==============================] - 35s 365ms/step - loss: 0.0754 - accuracy: 0.9798 - val_loss: 0.0546 - val_accuracy: 0.9831\n",
            "Epoch 5/20\n",
            "96/96 [==============================] - 35s 365ms/step - loss: 0.0714 - accuracy: 0.9814 - val_loss: 0.0466 - val_accuracy: 0.9818\n",
            "Epoch 6/20\n",
            "96/96 [==============================] - 36s 372ms/step - loss: 0.0627 - accuracy: 0.9821 - val_loss: 0.0443 - val_accuracy: 0.9844\n",
            "Epoch 7/20\n",
            "96/96 [==============================] - 35s 369ms/step - loss: 0.0508 - accuracy: 0.9860 - val_loss: 0.0444 - val_accuracy: 0.9844\n",
            "Epoch 8/20\n",
            "96/96 [==============================] - 36s 378ms/step - loss: 0.0509 - accuracy: 0.9834 - val_loss: 0.0461 - val_accuracy: 0.9831\n",
            "Epoch 9/20\n",
            "96/96 [==============================] - 35s 367ms/step - loss: 0.0462 - accuracy: 0.9860 - val_loss: 0.0403 - val_accuracy: 0.9844\n",
            "Epoch 10/20\n",
            "96/96 [==============================] - 36s 372ms/step - loss: 0.0436 - accuracy: 0.9867 - val_loss: 0.0375 - val_accuracy: 0.9844\n",
            "Epoch 11/20\n",
            "96/96 [==============================] - 35s 366ms/step - loss: 0.0424 - accuracy: 0.9873 - val_loss: 0.0391 - val_accuracy: 0.9857\n",
            "Epoch 12/20\n",
            "96/96 [==============================] - 35s 364ms/step - loss: 0.0414 - accuracy: 0.9860 - val_loss: 0.0397 - val_accuracy: 0.9857\n",
            "Epoch 13/20\n",
            "96/96 [==============================] - 35s 367ms/step - loss: 0.0333 - accuracy: 0.9896 - val_loss: 0.0413 - val_accuracy: 0.9857\n",
            "Epoch 14/20\n",
            "96/96 [==============================] - 34s 358ms/step - loss: 0.0364 - accuracy: 0.9896 - val_loss: 0.0337 - val_accuracy: 0.9883\n",
            "Epoch 15/20\n",
            "96/96 [==============================] - 34s 358ms/step - loss: 0.0373 - accuracy: 0.9886 - val_loss: 0.0328 - val_accuracy: 0.9883\n",
            "Epoch 16/20\n",
            "96/96 [==============================] - 35s 361ms/step - loss: 0.0332 - accuracy: 0.9899 - val_loss: 0.0299 - val_accuracy: 0.9896\n",
            "Epoch 17/20\n",
            "96/96 [==============================] - 36s 374ms/step - loss: 0.0297 - accuracy: 0.9919 - val_loss: 0.0287 - val_accuracy: 0.9909\n",
            "Epoch 18/20\n",
            "96/96 [==============================] - 36s 369ms/step - loss: 0.0256 - accuracy: 0.9922 - val_loss: 0.0287 - val_accuracy: 0.9896\n",
            "Epoch 19/20\n",
            "96/96 [==============================] - 36s 370ms/step - loss: 0.0244 - accuracy: 0.9941 - val_loss: 0.0264 - val_accuracy: 0.9922\n",
            "Epoch 20/20\n",
            "96/96 [==============================] - 35s 367ms/step - loss: 0.0279 - accuracy: 0.9915 - val_loss: 0.0336 - val_accuracy: 0.9883\n"
          ]
        }
      ]
    },
    {
      "cell_type": "code",
      "source": [
        "# make predictions on the testing set\n",
        "print(\"[INFO] evaluating network...\")\n",
        "predIdxs = model.predict(testX, batch_size=BS)"
      ],
      "metadata": {
        "colab": {
          "base_uri": "https://localhost:8080/"
        },
        "id": "LRsLeNZNaObK",
        "outputId": "46ed0056-a370-4071-e677-1fb28dea859e"
      },
      "execution_count": null,
      "outputs": [
        {
          "output_type": "stream",
          "name": "stdout",
          "text": [
            "[INFO] evaluating network...\n",
            "24/24 [==============================] - 2s 43ms/step\n"
          ]
        }
      ]
    },
    {
      "cell_type": "code",
      "source": [
        "# for each image in the testing set we need to find the index of the\n",
        "# label with corresponding largest predicted probability\n",
        "predIdxs = np.argmax(predIdxs, axis=1)"
      ],
      "metadata": {
        "id": "t9owFimla4UG"
      },
      "execution_count": null,
      "outputs": []
    },
    {
      "cell_type": "code",
      "source": [
        "# show a nicely formatted classification report\n",
        "print(classification_report(testY.argmax(axis=1), predIdxs,\n",
        "\ttarget_names=lb.classes_))"
      ],
      "metadata": {
        "colab": {
          "base_uri": "https://localhost:8080/"
        },
        "id": "u3RuItYka63R",
        "outputId": "acfc1500-5989-4d0f-fdc4-674f3c23d329"
      },
      "execution_count": null,
      "outputs": [
        {
          "output_type": "stream",
          "name": "stdout",
          "text": [
            "              precision    recall  f1-score   support\n",
            "\n",
            "   with_mask       0.98      1.00      0.99       383\n",
            "without_mask       1.00      0.98      0.99       385\n",
            "\n",
            "    accuracy                           0.99       768\n",
            "   macro avg       0.99      0.99      0.99       768\n",
            "weighted avg       0.99      0.99      0.99       768\n",
            "\n"
          ]
        }
      ]
    },
    {
      "cell_type": "code",
      "source": [
        "# serialize the model to disk\n",
        "print(\"[INFO] saving mask detector model...\")\n",
        "model.save(\"mask_detector2.h5\")"
      ],
      "metadata": {
        "colab": {
          "base_uri": "https://localhost:8080/"
        },
        "id": "igBJAEyLa9Wv",
        "outputId": "8577125b-bc70-4618-9caf-37856131407e"
      },
      "execution_count": null,
      "outputs": [
        {
          "output_type": "stream",
          "name": "stdout",
          "text": [
            "[INFO] saving mask detector model...\n"
          ]
        }
      ]
    },
    {
      "cell_type": "code",
      "source": [
        "# plot the training loss and accuracy\n",
        "N = EPOCHS\n",
        "plt.style.use(\"ggplot\")\n",
        "plt.figure()\n",
        "plt.plot(np.arange(0, N), H.history[\"loss\"], label=\"train_loss\")\n",
        "plt.plot(np.arange(0, N), H.history[\"val_loss\"], label=\"val_loss\")\n",
        "plt.plot(np.arange(0, N), H.history[\"accuracy\"], label=\"train_acc\")\n",
        "plt.plot(np.arange(0, N), H.history[\"val_accuracy\"], label=\"val_acc\")\n",
        "plt.title(\"Training Loss and Accuracy\")\n",
        "plt.xlabel(\"Epoch #\")\n",
        "plt.ylabel(\"Loss/Accuracy\")\n",
        "plt.legend(loc=\"lower left\")\n",
        "plt.savefig(\"plot.png\")"
      ],
      "metadata": {
        "colab": {
          "base_uri": "https://localhost:8080/",
          "height": 477
        },
        "id": "YlG3ymE9bBNg",
        "outputId": "80183b7d-f181-40b7-bd35-e35f0a5d7098"
      },
      "execution_count": null,
      "outputs": [
        {
          "output_type": "display_data",
          "data": {
            "text/plain": [
              "<Figure size 640x480 with 1 Axes>"
            ],
            "image/png": "[encoded data removed]"
          },
          "metadata": {}
        }
      ]
    }
  ]
}